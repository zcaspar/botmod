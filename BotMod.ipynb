{
 "cells": [
  {
   "cell_type": "code",
   "execution_count": 12,
   "metadata": {
    "collapsed": true
   },
   "outputs": [],
   "source": [
    "# The next step is to implement 'passengers' in the dictionary"
   ]
  },
  {
   "cell_type": "code",
   "execution_count": 13,
   "metadata": {
    "scrolled": false
   },
   "outputs": [
    {
     "name": "stdout",
     "output_type": "stream",
     "text": [
      "Welcome to the game Type a to Modify your robot, b to play game or c to exit the game\n",
      "b\n",
      "You have been auto-allocated a robot with wheels and a small cargo bay\n",
      "Your current position is 1\n",
      "Please press 'l','r','u','d' depending on the direction you want to move or 'x' to exit\n",
      "r\n",
      "Your current position is 2\n",
      "Please press 'l','r','u','d' depending on the direction you want to move or 'x' to exit\n",
      "r\n",
      "There is a person here\n",
      "One passenger picked up\n",
      "There are still people in the following locations: [28, 65, 70]\n",
      "Your current position is 3\n",
      "Please press 'l','r','u','d' depending on the direction you want to move or 'x' to exit\n",
      "d\n",
      "Your current position is 13\n",
      "Please press 'l','r','u','d' depending on the direction you want to move or 'x' to exit\n",
      "d\n",
      "Your current position is 23\n",
      "Please press 'l','r','u','d' depending on the direction you want to move or 'x' to exit\n",
      "r\n",
      "Your current position is 24\n",
      "Please press 'l','r','u','d' depending on the direction you want to move or 'x' to exit\n",
      "r\n",
      "Your current position is 25\n",
      "Please press 'l','r','u','d' depending on the direction you want to move or 'x' to exit\n",
      "r\n",
      "Your current position is 26\n",
      "Please press 'l','r','u','d' depending on the direction you want to move or 'x' to exit\n",
      "r\n",
      "Your current position is 27\n",
      "Please press 'l','r','u','d' depending on the direction you want to move or 'x' to exit\n",
      "r\n",
      "There is a person here\n",
      "One passenger picked up\n",
      "There are still people in the following locations: [65, 70]\n",
      "Your current position is 28\n",
      "Please press 'l','r','u','d' depending on the direction you want to move or 'x' to exit\n"
     ]
    },
    {
     "ename": "KeyboardInterrupt",
     "evalue": "",
     "output_type": "error",
     "traceback": [
      "\u001b[0;31m---------------------------------------------------------------------------\u001b[0m",
      "\u001b[0;31mKeyboardInterrupt\u001b[0m                         Traceback (most recent call last)",
      "\u001b[0;32m/usr/local/conda3/lib/python3.6/site-packages/ipykernel/kernelbase.py\u001b[0m in \u001b[0;36m_input_request\u001b[0;34m(self, prompt, ident, parent, password)\u001b[0m\n\u001b[1;32m    729\u001b[0m             \u001b[0;32mtry\u001b[0m\u001b[0;34m:\u001b[0m\u001b[0;34m\u001b[0m\u001b[0m\n\u001b[0;32m--> 730\u001b[0;31m                 \u001b[0mident\u001b[0m\u001b[0;34m,\u001b[0m \u001b[0mreply\u001b[0m \u001b[0;34m=\u001b[0m \u001b[0mself\u001b[0m\u001b[0;34m.\u001b[0m\u001b[0msession\u001b[0m\u001b[0;34m.\u001b[0m\u001b[0mrecv\u001b[0m\u001b[0;34m(\u001b[0m\u001b[0mself\u001b[0m\u001b[0;34m.\u001b[0m\u001b[0mstdin_socket\u001b[0m\u001b[0;34m,\u001b[0m \u001b[0;36m0\u001b[0m\u001b[0;34m)\u001b[0m\u001b[0;34m\u001b[0m\u001b[0m\n\u001b[0m\u001b[1;32m    731\u001b[0m             \u001b[0;32mexcept\u001b[0m \u001b[0mException\u001b[0m\u001b[0;34m:\u001b[0m\u001b[0;34m\u001b[0m\u001b[0m\n",
      "\u001b[0;32m/usr/local/conda3/lib/python3.6/site-packages/jupyter_client/session.py\u001b[0m in \u001b[0;36mrecv\u001b[0;34m(self, socket, mode, content, copy)\u001b[0m\n\u001b[1;32m    795\u001b[0m         \u001b[0;32mtry\u001b[0m\u001b[0;34m:\u001b[0m\u001b[0;34m\u001b[0m\u001b[0m\n\u001b[0;32m--> 796\u001b[0;31m             \u001b[0mmsg_list\u001b[0m \u001b[0;34m=\u001b[0m \u001b[0msocket\u001b[0m\u001b[0;34m.\u001b[0m\u001b[0mrecv_multipart\u001b[0m\u001b[0;34m(\u001b[0m\u001b[0mmode\u001b[0m\u001b[0;34m,\u001b[0m \u001b[0mcopy\u001b[0m\u001b[0;34m=\u001b[0m\u001b[0mcopy\u001b[0m\u001b[0;34m)\u001b[0m\u001b[0;34m\u001b[0m\u001b[0m\n\u001b[0m\u001b[1;32m    797\u001b[0m         \u001b[0;32mexcept\u001b[0m \u001b[0mzmq\u001b[0m\u001b[0;34m.\u001b[0m\u001b[0mZMQError\u001b[0m \u001b[0;32mas\u001b[0m \u001b[0me\u001b[0m\u001b[0;34m:\u001b[0m\u001b[0;34m\u001b[0m\u001b[0m\n",
      "\u001b[0;32m/usr/local/conda3/lib/python3.6/site-packages/zmq/sugar/socket.py\u001b[0m in \u001b[0;36mrecv_multipart\u001b[0;34m(self, flags, copy, track)\u001b[0m\n\u001b[1;32m    394\u001b[0m         \"\"\"\n\u001b[0;32m--> 395\u001b[0;31m         \u001b[0mparts\u001b[0m \u001b[0;34m=\u001b[0m \u001b[0;34m[\u001b[0m\u001b[0mself\u001b[0m\u001b[0;34m.\u001b[0m\u001b[0mrecv\u001b[0m\u001b[0;34m(\u001b[0m\u001b[0mflags\u001b[0m\u001b[0;34m,\u001b[0m \u001b[0mcopy\u001b[0m\u001b[0;34m=\u001b[0m\u001b[0mcopy\u001b[0m\u001b[0;34m,\u001b[0m \u001b[0mtrack\u001b[0m\u001b[0;34m=\u001b[0m\u001b[0mtrack\u001b[0m\u001b[0;34m)\u001b[0m\u001b[0;34m]\u001b[0m\u001b[0;34m\u001b[0m\u001b[0m\n\u001b[0m\u001b[1;32m    396\u001b[0m         \u001b[0;31m# have first part already, only loop while more to receive\u001b[0m\u001b[0;34m\u001b[0m\u001b[0;34m\u001b[0m\u001b[0m\n",
      "\u001b[0;32mzmq/backend/cython/socket.pyx\u001b[0m in \u001b[0;36mzmq.backend.cython.socket.Socket.recv (zmq/backend/cython/socket.c:7683)\u001b[0;34m()\u001b[0m\n",
      "\u001b[0;32mzmq/backend/cython/socket.pyx\u001b[0m in \u001b[0;36mzmq.backend.cython.socket.Socket.recv (zmq/backend/cython/socket.c:7460)\u001b[0;34m()\u001b[0m\n",
      "\u001b[0;32mzmq/backend/cython/socket.pyx\u001b[0m in \u001b[0;36mzmq.backend.cython.socket._recv_copy (zmq/backend/cython/socket.c:2344)\u001b[0;34m()\u001b[0m\n",
      "\u001b[0;32m/usr/local/conda3/lib/python3.6/site-packages/zmq/backend/cython/checkrc.pxd\u001b[0m in \u001b[0;36mzmq.backend.cython.checkrc._check_rc (zmq/backend/cython/socket.c:9621)\u001b[0;34m()\u001b[0m\n",
      "\u001b[0;31mKeyboardInterrupt\u001b[0m: ",
      "\nDuring handling of the above exception, another exception occurred:\n",
      "\u001b[0;31mKeyboardInterrupt\u001b[0m                         Traceback (most recent call last)",
      "\u001b[0;32m<ipython-input-13-ed5c03320868>\u001b[0m in \u001b[0;36m<module>\u001b[0;34m()\u001b[0m\n\u001b[0;32m----> 1\u001b[0;31m \u001b[0mstart_game\u001b[0m\u001b[0;34m(\u001b[0m\u001b[0;34m)\u001b[0m\u001b[0;34m\u001b[0m\u001b[0m\n\u001b[0m",
      "\u001b[0;32m<ipython-input-1-f38dd0e65e63>\u001b[0m in \u001b[0;36mstart_game\u001b[0;34m()\u001b[0m\n\u001b[1;32m     18\u001b[0m         Robot = {'capacity':1,'position':1, \"base\":'wheels', \"cargo_bay\":'s', \"passengers\":0,\"power_units\":150,'move_cost_grass':1,\n\u001b[1;32m     19\u001b[0m                  'move_cost_rock':2,'move_cost_ice':3}\n\u001b[0;32m---> 20\u001b[0;31m         \u001b[0mplay_command\u001b[0m\u001b[0;34m(\u001b[0m\u001b[0mRobot\u001b[0m\u001b[0;34m)\u001b[0m \u001b[0;31m# See further down for the play_command\u001b[0m\u001b[0;34m\u001b[0m\u001b[0m\n\u001b[0m\u001b[1;32m     21\u001b[0m     \u001b[0;32mif\u001b[0m \u001b[0muser_input\u001b[0m \u001b[0;34m==\u001b[0m \u001b[0;34m'c'\u001b[0m\u001b[0;34m:\u001b[0m\u001b[0;34m\u001b[0m\u001b[0m\n\u001b[1;32m     22\u001b[0m         \u001b[0mcommand\u001b[0m \u001b[0;34m=\u001b[0m \u001b[0mexit\u001b[0m\u001b[0;34m\u001b[0m\u001b[0m\n",
      "\u001b[0;32m<ipython-input-11-8b3d5a3e6cb5>\u001b[0m in \u001b[0;36mplay_command\u001b[0;34m(Robot)\u001b[0m\n\u001b[1;32m      3\u001b[0m     \u001b[0mRobot\u001b[0m \u001b[0;34m=\u001b[0m \u001b[0mmove_choice\u001b[0m\u001b[0;34m(\u001b[0m\u001b[0mRobot\u001b[0m\u001b[0;34m,\u001b[0m\u001b[0mgrid\u001b[0m\u001b[0;34m)\u001b[0m\u001b[0;34m\u001b[0m\u001b[0m\n\u001b[1;32m      4\u001b[0m     \u001b[0;32mwhile\u001b[0m \u001b[0mRobot\u001b[0m\u001b[0;34m[\u001b[0m\u001b[0;34m'power_units'\u001b[0m\u001b[0;34m]\u001b[0m \u001b[0;34m>\u001b[0m \u001b[0;36m0\u001b[0m\u001b[0;34m:\u001b[0m\u001b[0;34m\u001b[0m\u001b[0m\n\u001b[0;32m----> 5\u001b[0;31m         \u001b[0mRobot\u001b[0m \u001b[0;34m=\u001b[0m \u001b[0mmove_choice\u001b[0m\u001b[0;34m(\u001b[0m\u001b[0mRobot\u001b[0m\u001b[0;34m,\u001b[0m\u001b[0mgrid\u001b[0m\u001b[0;34m)\u001b[0m\u001b[0;34m\u001b[0m\u001b[0m\n\u001b[0m\u001b[1;32m      6\u001b[0m         \u001b[0;31m#grid, people_positions, base = set_up_board()[0],set_up_board()[1],set_up_board()[2]\u001b[0m\u001b[0;34m\u001b[0m\u001b[0;34m\u001b[0m\u001b[0m\n\u001b[1;32m      7\u001b[0m         \u001b[0;32mif\u001b[0m \u001b[0mcheck_for_person\u001b[0m\u001b[0;34m(\u001b[0m\u001b[0mRobot\u001b[0m\u001b[0;34m,\u001b[0m\u001b[0mgrid\u001b[0m\u001b[0;34m,\u001b[0m\u001b[0mpeople_positions\u001b[0m\u001b[0;34m)\u001b[0m \u001b[0;34m==\u001b[0m \u001b[0;32mTrue\u001b[0m\u001b[0;34m:\u001b[0m\u001b[0;34m\u001b[0m\u001b[0m\n",
      "\u001b[0;32m<ipython-input-7-4a5598d3fbfd>\u001b[0m in \u001b[0;36mmove_choice\u001b[0;34m(Robot, grid)\u001b[0m\n\u001b[1;32m      5\u001b[0m     \u001b[0mnew_position\u001b[0m \u001b[0;34m=\u001b[0m \u001b[0;36m0\u001b[0m\u001b[0;34m\u001b[0m\u001b[0m\n\u001b[1;32m      6\u001b[0m     \u001b[0mprint\u001b[0m\u001b[0;34m(\u001b[0m\u001b[0;34m\"Please press 'l','r','u','d' depending on the direction you want to move or 'x' to exit\"\u001b[0m\u001b[0;34m)\u001b[0m\u001b[0;34m\u001b[0m\u001b[0m\n\u001b[0;32m----> 7\u001b[0;31m     \u001b[0muser_input\u001b[0m \u001b[0;34m=\u001b[0m \u001b[0minput\u001b[0m\u001b[0;34m(\u001b[0m\u001b[0;34m)\u001b[0m\u001b[0;34m\u001b[0m\u001b[0m\n\u001b[0m\u001b[1;32m      8\u001b[0m     \u001b[0;32mif\u001b[0m \u001b[0muser_input\u001b[0m \u001b[0;34m==\u001b[0m \u001b[0;34m'x'\u001b[0m\u001b[0;34m:\u001b[0m\u001b[0;34m\u001b[0m\u001b[0m\n\u001b[1;32m      9\u001b[0m         \u001b[0;32mreturn\u001b[0m \u001b[0;32mNone\u001b[0m\u001b[0;34m\u001b[0m\u001b[0m\n",
      "\u001b[0;32m/usr/local/conda3/lib/python3.6/site-packages/ipykernel/kernelbase.py\u001b[0m in \u001b[0;36mraw_input\u001b[0;34m(self, prompt)\u001b[0m\n\u001b[1;32m    703\u001b[0m             \u001b[0mself\u001b[0m\u001b[0;34m.\u001b[0m\u001b[0m_parent_ident\u001b[0m\u001b[0;34m,\u001b[0m\u001b[0;34m\u001b[0m\u001b[0m\n\u001b[1;32m    704\u001b[0m             \u001b[0mself\u001b[0m\u001b[0;34m.\u001b[0m\u001b[0m_parent_header\u001b[0m\u001b[0;34m,\u001b[0m\u001b[0;34m\u001b[0m\u001b[0m\n\u001b[0;32m--> 705\u001b[0;31m             \u001b[0mpassword\u001b[0m\u001b[0;34m=\u001b[0m\u001b[0;32mFalse\u001b[0m\u001b[0;34m,\u001b[0m\u001b[0;34m\u001b[0m\u001b[0m\n\u001b[0m\u001b[1;32m    706\u001b[0m         )\n\u001b[1;32m    707\u001b[0m \u001b[0;34m\u001b[0m\u001b[0m\n",
      "\u001b[0;32m/usr/local/conda3/lib/python3.6/site-packages/ipykernel/kernelbase.py\u001b[0m in \u001b[0;36m_input_request\u001b[0;34m(self, prompt, ident, parent, password)\u001b[0m\n\u001b[1;32m    733\u001b[0m             \u001b[0;32mexcept\u001b[0m \u001b[0mKeyboardInterrupt\u001b[0m\u001b[0;34m:\u001b[0m\u001b[0;34m\u001b[0m\u001b[0m\n\u001b[1;32m    734\u001b[0m                 \u001b[0;31m# re-raise KeyboardInterrupt, to truncate traceback\u001b[0m\u001b[0;34m\u001b[0m\u001b[0;34m\u001b[0m\u001b[0m\n\u001b[0;32m--> 735\u001b[0;31m                 \u001b[0;32mraise\u001b[0m \u001b[0mKeyboardInterrupt\u001b[0m\u001b[0;34m\u001b[0m\u001b[0m\n\u001b[0m\u001b[1;32m    736\u001b[0m             \u001b[0;32melse\u001b[0m\u001b[0;34m:\u001b[0m\u001b[0;34m\u001b[0m\u001b[0m\n\u001b[1;32m    737\u001b[0m                 \u001b[0;32mbreak\u001b[0m\u001b[0;34m\u001b[0m\u001b[0m\n",
      "\u001b[0;31mKeyboardInterrupt\u001b[0m: "
     ]
    }
   ],
   "source": [
    "start_game()"
   ]
  },
  {
   "cell_type": "code",
   "execution_count": 1,
   "metadata": {
    "scrolled": false
   },
   "outputs": [],
   "source": [
    "def start_game():\n",
    "    print('Welcome to the game ' + 'Type a to Modify your robot, b to play game or c to exit the game')\n",
    "    user_input = input()\n",
    "    modify, play, exit = '','',''\n",
    "    if user_input == 'a':\n",
    "        Robot_modified = modify_robot()\n",
    "        print('Do you want to play now y/n?')\n",
    "        play_now = input()\n",
    "        if play_now == 'y':\n",
    "            play_command(Robot_modified)\n",
    "        if play_now == 'n':\n",
    "            print('Thanks for modifying your robot, press b to begin')\n",
    "            next_request == input()\n",
    "            if next_request == 'b':\n",
    "                play_command(Robot_modified)\n",
    "    if user_input == 'b':\n",
    "        print('You have been auto-allocated a robot with wheels and a small cargo bay')\n",
    "        Robot = {'capacity':1,'position':1, \"base\":'wheels', \"cargo_bay\":'s', \"passengers\":0,\"power_units\":150,'move_cost_grass':1,\n",
    "                 'move_cost_rock':2,'move_cost_ice':3}\n",
    "        play_command(Robot) # See further down for the play_command\n",
    "    if user_input == 'c':\n",
    "        command = exit\n",
    "    return Robot['power_units']"
   ]
  },
  {
   "cell_type": "code",
   "execution_count": 2,
   "metadata": {},
   "outputs": [],
   "source": [
    "def set_up_board():\n",
    "    g = 'grass'\n",
    "    i = 'ice'\n",
    "    r = 'rocks'\n",
    "    grid = [g,g,i,i,i,i,g,g,i,i,g,r,r,i,i,i,g,g,i,i,r,r,r,g,g,i,g,g,i,i,i,r,g,g,g,g,g,g,g,g,r,r,g,i,g,i,r,r,g,g,r,r,r,i,r,r,r,r,i,g,r,r,r,r,r,i,i,i,g,g,g,r,r,r,i,i,i,i,g,i,g,g,g,g,i,g,g,i,i,i,g,g,g,g,g,g,g,g,i,r]\n",
    "    people_positions = [3,28,65,70]\n",
    "    base = 37\n",
    "    return grid,people_positions,base"
   ]
  },
  {
   "cell_type": "code",
   "execution_count": 3,
   "metadata": {
    "collapsed": true
   },
   "outputs": [],
   "source": [
    "def printGrid (numsPerRow, grid):\n",
    "    printStr = \"\"\n",
    "    numsInRow = 1\n",
    "    for i in range(len(grid)):\n",
    "\n",
    "        item = grid[i]\n",
    "        if numsInRow % numsPerRow == 0:\n",
    "            printStr += \"{0}\\n\".format(item)\n",
    "            numsInRow = 1\n",
    "        else:\n",
    "            printStr += \"{0}\\t\".format(item)\n",
    "            numsInRow += 1\n",
    "    return printStr"
   ]
  },
  {
   "cell_type": "code",
   "execution_count": 11,
   "metadata": {},
   "outputs": [],
   "source": [
    "def play_command(Robot):\n",
    "    grid, people_positions, base = set_up_board()[0],set_up_board()[1],set_up_board()[2]\n",
    "    Robot = move_choice(Robot,grid)\n",
    "    while Robot['power_units'] > 0:\n",
    "        Robot = move_choice(Robot,grid)\n",
    "        #grid, people_positions, base = set_up_board()[0],set_up_board()[1],set_up_board()[2]\n",
    "        if check_for_person(Robot,grid,people_positions) == True:\n",
    "            print('There is a person here') # Add check that there is space for the person\n",
    "            if Robot['passengers'] < Robot['capacity']:\n",
    "                print('One passenger picked up')\n",
    "                people_positions.remove(Robot['position'])\n",
    "                print('There are still people in the following locations: ' +str(people_positions))\n",
    "    return Robot"
   ]
  },
  {
   "cell_type": "code",
   "execution_count": 5,
   "metadata": {
    "collapsed": true
   },
   "outputs": [],
   "source": [
    "def check_for_person(Robot,grid,people_positions):\n",
    "    current_position = Robot['position']\n",
    "    if current_position in people_positions:\n",
    "        return True"
   ]
  },
  {
   "cell_type": "code",
   "execution_count": 6,
   "metadata": {
    "collapsed": true
   },
   "outputs": [],
   "source": [
    "# Are people positions universal? Where are they called? They are in the play_command"
   ]
  },
  {
   "cell_type": "code",
   "execution_count": 7,
   "metadata": {},
   "outputs": [],
   "source": [
    "def move_choice(Robot,grid):\n",
    "    # You input the Robot, you're asked which way and the position of the robot on grid is updated\n",
    "    current_position = Robot['position']\n",
    "    print('Your current position is ' + str(Robot['position']))\n",
    "    new_position = 0\n",
    "    print(\"Please press 'l','r','u','d' depending on the direction you want to move or 'x' to exit\")\n",
    "    user_input = input()\n",
    "    if user_input == 'x':\n",
    "        return None\n",
    "    if user_input == 'l':\n",
    "        if str(current_position)[-1] == '1':\n",
    "            print('You cannot go off the left edge')\n",
    "            print(\"Please try again and press 'r','u','d' depending on the direction you want to move\")\n",
    "            user_input = input()\n",
    "        Robot['position'] = current_position - 1\n",
    "    if user_input == 'r':\n",
    "        if current_position % 10 == 0:\n",
    "            print('You cannot go off the right edge')\n",
    "            print(\"Please try again and press 'l','u','d' depending on the direction you want to move\")\n",
    "            user_input = input()\n",
    "        Robot['position'] = current_position + 1\n",
    "    if user_input == 'u':\n",
    "        if current_position <= 10:\n",
    "            print('You cannot go off the top edge')\n",
    "            print(\"Please try again and press 'l','r','d' depending on the direction you want to move\")\n",
    "            user_input = input()\n",
    "        Robot['position'] = current_position -10\n",
    "    if user_input == 'd':\n",
    "        if current_position >= 90:\n",
    "            print('You cannot go off the bottom edge')\n",
    "            print(\"Please try again and press 'l','r','u' depending on the direction you want to move\")\n",
    "            user_input = input()\n",
    "        Robot['position'] = current_position +10\n",
    "    Robot = make_move(Robot['position'],Robot,grid)\n",
    "    return Robot"
   ]
  },
  {
   "cell_type": "code",
   "execution_count": 8,
   "metadata": {},
   "outputs": [],
   "source": [
    "def make_move(new_position,Robot,grid): # This simply updates the robot\n",
    "    if grid[new_position] == 'grass':\n",
    "        Robot['power_units'] -= Robot['move_cost_grass']\n",
    "    if grid[new_position] == 'ice':\n",
    "        Robot['power_units'] -= Robot['move_cost_ice']\n",
    "    if grid[new_position] == 'rocks':\n",
    "        Robot['power_units'] -= Robot['move_cost_rock']\n",
    "    return Robot\n",
    "    "
   ]
  },
  {
   "cell_type": "code",
   "execution_count": 9,
   "metadata": {
    "collapsed": true
   },
   "outputs": [],
   "source": [
    "def modify_robot():\n",
    "    print('Please enter the base type')\n",
    "    base_type = input()\n",
    "    print('And please enter the passenger bay size')\n",
    "    size = input()\n",
    "    robot_move_cost = PassBaySize(size)[0]\n",
    "    robot_max_pass = PassBaySize(size)[1]\n",
    "    if base_type == 'wheels':\n",
    "        robot_initial_cost = (1,2,3)\n",
    "    if base_type == 'tracks':\n",
    "        robot_initial_cost = (3,3,3)\n",
    "    if base_type == 'skis':\n",
    "        robot_initial_cost = (3,3,1)\n",
    "    if size == 's':\n",
    "        capacity = 1\n",
    "    if size == 'm':\n",
    "        capacity = 2\n",
    "    if size == 'l':\n",
    "        capacity = 3\n",
    "    final_cost_list =[]\n",
    "    for i in robot_initial_cost:\n",
    "        final_cost_list.append(i+robot_move_cost) # final cost list is cost of moving on g,r,i\n",
    "    Robot = {'capacity':capacity,'position':1, \"base\":base_type, \"cargo_bay\":size, \"passengers\":0,\"power_units\":150,'move_cost_grass':final_cost_list[0],\n",
    "             'move_cost_rock':final_cost_list[1],'move_cost_ice':final_cost_list[2]}\n",
    "    return Robot"
   ]
  },
  {
   "cell_type": "code",
   "execution_count": 10,
   "metadata": {
    "collapsed": true
   },
   "outputs": [],
   "source": [
    "def PassBaySize(size):\n",
    "    # Returns a tuple of additional cost and max_pass\n",
    "    if size == 's':\n",
    "        add_cost = 0\n",
    "        max_pass = 1\n",
    "    if size == 'm':\n",
    "        add_cost = 1\n",
    "        max_pass = 2\n",
    "    if size == 'l':\n",
    "        add_cost = 2\n",
    "        max_pass = 3\n",
    "    return add_cost, max_pass"
   ]
  },
  {
   "cell_type": "code",
   "execution_count": null,
   "metadata": {
    "collapsed": true
   },
   "outputs": [],
   "source": []
  }
 ],
 "metadata": {
  "kernelspec": {
   "display_name": "Python 3",
   "language": "python",
   "name": "python3"
  },
  "language_info": {
   "codemirror_mode": {
    "name": "ipython",
    "version": 3
   },
   "file_extension": ".py",
   "mimetype": "text/x-python",
   "name": "python",
   "nbconvert_exporter": "python",
   "pygments_lexer": "ipython3",
   "version": "3.6.2"
  }
 },
 "nbformat": 4,
 "nbformat_minor": 2
}
