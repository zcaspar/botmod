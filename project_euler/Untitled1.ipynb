{
 "cells": [
  {
   "cell_type": "code",
   "execution_count": 184,
   "metadata": {
    "collapsed": true
   },
   "outputs": [],
   "source": [
    "def even_no(input_a):\n",
    "    return input_a/2"
   ]
  },
  {
   "cell_type": "code",
   "execution_count": 185,
   "metadata": {
    "collapsed": true
   },
   "outputs": [],
   "source": [
    "def odd_no(input_a):\n",
    "    return 3*input_a + 1"
   ]
  },
  {
   "cell_type": "code",
   "execution_count": 194,
   "metadata": {},
   "outputs": [],
   "source": [
    "def both_together(input_a,recur_no):\n",
    "    recur_no += 1\n",
    "    if input_a == 1:\n",
    "        return recur_no\n",
    "    if input_a%2 == 0:\n",
    "        return both_together(input_a / 2,recur_no)\n",
    "    else:\n",
    "        return both_together(3*input_a + 1,recur_no)"
   ]
  },
  {
   "cell_type": "code",
   "execution_count": 196,
   "metadata": {},
   "outputs": [
    {
     "data": {
      "text/plain": [
       "13"
      ]
     },
     "execution_count": 196,
     "metadata": {},
     "output_type": "execute_result"
    }
   ],
   "source": [
    "both_together(17,0)"
   ]
  },
  {
   "cell_type": "code",
   "execution_count": 208,
   "metadata": {},
   "outputs": [
    {
     "data": {
      "text/plain": [
       "3"
      ]
     },
     "execution_count": 208,
     "metadata": {},
     "output_type": "execute_result"
    }
   ],
   "source": [
    "both_together(4,0)"
   ]
  },
  {
   "cell_type": "code",
   "execution_count": 211,
   "metadata": {
    "collapsed": true
   },
   "outputs": [],
   "source": [
    "import time"
   ]
  },
  {
   "cell_type": "code",
   "execution_count": 214,
   "metadata": {},
   "outputs": [
    {
     "name": "stdout",
     "output_type": "stream",
     "text": [
      "0.01 % complete\n",
      "0.02 % complete\n",
      "0.03 % complete\n",
      "0.04 % complete\n",
      "0.05 % complete\n",
      "0.06 % complete\n",
      "0.07 % complete\n",
      "0.08 % complete\n",
      "0.09 % complete\n",
      "0.1 % complete\n",
      "0.11 % complete\n",
      "0.12 % complete\n",
      "0.13 % complete\n",
      "0.14 % complete\n",
      "0.15 % complete\n",
      "0.16 % complete\n",
      "0.17 % complete\n",
      "0.18 % complete\n",
      "0.19 % complete\n",
      "0.2 % complete\n",
      "0.21 % complete\n",
      "0.22 % complete\n",
      "0.23 % complete\n",
      "0.24 % complete\n",
      "0.25 % complete\n",
      "0.26 % complete\n",
      "0.27 % complete\n",
      "0.28 % complete\n",
      "0.29 % complete\n",
      "0.3 % complete\n",
      "0.31 % complete\n",
      "0.32 % complete\n",
      "0.33 % complete\n",
      "0.34 % complete\n",
      "0.35 % complete\n",
      "0.36 % complete\n",
      "0.37 % complete\n",
      "0.38 % complete\n",
      "0.39 % complete\n",
      "0.4 % complete\n",
      "0.41 % complete\n",
      "0.42 % complete\n",
      "0.43 % complete\n",
      "0.44 % complete\n",
      "0.45 % complete\n",
      "0.46 % complete\n",
      "0.47 % complete\n",
      "0.48 % complete\n",
      "0.49 % complete\n",
      "0.5 % complete\n",
      "0.51 % complete\n",
      "0.52 % complete\n",
      "0.53 % complete\n",
      "0.54 % complete\n",
      "0.55 % complete\n",
      "0.56 % complete\n",
      "0.57 % complete\n",
      "0.58 % complete\n",
      "0.59 % complete\n",
      "0.6 % complete\n",
      "0.61 % complete\n",
      "0.62 % complete\n",
      "0.63 % complete\n",
      "0.64 % complete\n",
      "0.65 % complete\n",
      "0.66 % complete\n",
      "0.67 % complete\n",
      "0.68 % complete\n",
      "0.69 % complete\n",
      "0.7 % complete\n",
      "0.71 % complete\n",
      "0.72 % complete\n",
      "0.73 % complete\n",
      "0.74 % complete\n",
      "0.75 % complete\n",
      "0.76 % complete\n",
      "0.77 % complete\n",
      "0.78 % complete\n",
      "0.79 % complete\n",
      "0.8 % complete\n",
      "0.81 % complete\n",
      "0.82 % complete\n",
      "0.83 % complete\n",
      "0.84 % complete\n",
      "0.85 % complete\n",
      "0.86 % complete\n",
      "0.87 % complete\n",
      "0.88 % complete\n",
      "0.89 % complete\n",
      "0.9 % complete\n",
      "0.91 % complete\n",
      "0.92 % complete\n",
      "0.93 % complete\n",
      "0.94 % complete\n",
      "0.95 % complete\n",
      "0.96 % complete\n",
      "0.97 % complete\n",
      "0.98 % complete\n",
      "0.99 % complete\n",
      "525 837799 135.69368934631348 seconds\n"
     ]
    }
   ],
   "source": [
    "start = time.time()\n",
    "i = 1\n",
    "max_no = 0\n",
    "while i < 1000000:\n",
    "    if i%10000 == 0:\n",
    "        print (str(i/1000000*100) + \" % complete\")\n",
    "    curr_no = both_together(i,0)\n",
    "    if curr_no > max_no:\n",
    "        max_no = curr_no\n",
    "        start_i = i\n",
    "    i += 1\n",
    "end_time = time.time()\n",
    "print (max_no,start_i,str(end_time-start) + \" seconds\")"
   ]
  },
  {
   "cell_type": "code",
   "execution_count": null,
   "metadata": {
    "collapsed": true
   },
   "outputs": [],
   "source": []
  }
 ],
 "metadata": {
  "kernelspec": {
   "display_name": "Python 3",
   "language": "python",
   "name": "python3"
  },
  "language_info": {
   "codemirror_mode": {
    "name": "ipython",
    "version": 3
   },
   "file_extension": ".py",
   "mimetype": "text/x-python",
   "name": "python",
   "nbconvert_exporter": "python",
   "pygments_lexer": "ipython3",
   "version": "3.6.2"
  }
 },
 "nbformat": 4,
 "nbformat_minor": 2
}
