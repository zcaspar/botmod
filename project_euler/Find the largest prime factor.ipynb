{
 "cells": [
  {
   "cell_type": "markdown",
   "metadata": {},
   "source": [
    " # Is input2 a factor of input1\n",
    "def is_factor(input1,input2):\n",
    "    if input1 % input2 == 0:\n",
    "        return 1\n",
    "    else:\n",
    "        return 0"
   ]
  },
  {
   "cell_type": "markdown",
   "metadata": {},
   "source": [
    " # Returns a list of the factors of the input\n",
    "def return_factors(input):\n",
    "    factor_list = []\n",
    "    divisor = 2\n",
    "    while divisor <= input/2:\n",
    "        if is_factor(input,divisor) == 1:\n",
    "            factor_list.append(divisor)\n",
    "        divisor += 1\n",
    "    return factor_list"
   ]
  },
  {
   "cell_type": "code",
   "execution_count": 205,
   "metadata": {
    "collapsed": true
   },
   "outputs": [],
   "source": [
    "def is_prime(input):\n",
    "    counter = 3\n",
    "    if input%2 == 0:\n",
    "        return 0\n",
    "    while counter < (input/2):\n",
    "        if input%counter == 0:\n",
    "            return 0\n",
    "        counter += 2\n",
    "    return 1"
   ]
  },
  {
   "cell_type": "code",
   "execution_count": 206,
   "metadata": {
    "collapsed": true
   },
   "outputs": [],
   "source": [
    "# Returns a list of all primes up to and including a given number\n",
    "def get_primes(input):\n",
    "    prime_list = []\n",
    "    while input > 0:\n",
    "        if input%2 == 0:\n",
    "            input -=1\n",
    "        if is_prime(input) == 1:\n",
    "            prime_list.append(input)\n",
    "        input -= 2\n",
    "    return prime_list"
   ]
  },
  {
   "cell_type": "code",
   "execution_count": 207,
   "metadata": {
    "collapsed": true
   },
   "outputs": [],
   "source": [
    "first_primes = get_primes(10000)"
   ]
  },
  {
   "cell_type": "code",
   "execution_count": 208,
   "metadata": {
    "collapsed": true
   },
   "outputs": [],
   "source": [
    "def largest_prime_factor(input):\n",
    "    prime_list = first_primes\n",
    "    largest_prime = 1\n",
    "    a = 0\n",
    "    for prime in prime_list:\n",
    "        if (input % prime == 0) and (prime != 1):\n",
    "            a = input/prime\n",
    "            if is_prime(a) == 1:\n",
    "                return a\n",
    "            else:\n",
    "                if prime > largest_prime:\n",
    "                    largest_prime = prime\n",
    "    return largest_prime"
   ]
  },
  {
   "cell_type": "code",
   "execution_count": 209,
   "metadata": {},
   "outputs": [
    {
     "name": "stdout",
     "output_type": "stream",
     "text": [
      "6857\n"
     ]
    }
   ],
   "source": [
    "print(largest_prime_factor(600851475143))\n",
    "#print(largest_prime_factor(600851475143))"
   ]
  },
  {
   "cell_type": "markdown",
   "metadata": {},
   "source": [
    "# Reflections on finding the largest prime factor"
   ]
  },
  {
   "cell_type": "code",
   "execution_count": null,
   "metadata": {
    "collapsed": true
   },
   "outputs": [],
   "source": [
    "First I got a list of the first primes up to 10000, then I divided my number by each of those to give a result x. If x \n",
    "was prime then this was the largest prime factor, if it was not, then I made the variable largest_prime\n",
    "to be the value of the prime I had divided by providing it met the condition that it was larger than the current\n",
    "value of largest prime. Looping through in this way gives the result I wanted."
   ]
  }
 ],
 "metadata": {
  "kernelspec": {
   "display_name": "Python 3",
   "language": "python",
   "name": "python3"
  },
  "language_info": {
   "codemirror_mode": {
    "name": "ipython",
    "version": 3
   },
   "file_extension": ".py",
   "mimetype": "text/x-python",
   "name": "python",
   "nbconvert_exporter": "python",
   "pygments_lexer": "ipython3",
   "version": "3.6.1"
  }
 },
 "nbformat": 4,
 "nbformat_minor": 2
}
