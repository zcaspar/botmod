{
 "cells": [
  {
   "cell_type": "code",
   "execution_count": 1,
   "metadata": {
    "collapsed": true
   },
   "outputs": [],
   "source": [
    "prime_list = [2,3,5,7,11,13]"
   ]
  },
  {
   "cell_type": "code",
   "execution_count": 19,
   "metadata": {
    "collapsed": true
   },
   "outputs": [],
   "source": [
    "def is_prime(input):\n",
    "    counter = 3\n",
    "    if input%2 == 0:\n",
    "        return 0\n",
    "    while counter < (input/2):\n",
    "        if input%counter == 0:\n",
    "            return 0\n",
    "        counter += 2\n",
    "    return 1"
   ]
  },
  {
   "cell_type": "code",
   "execution_count": 39,
   "metadata": {
    "collapsed": true
   },
   "outputs": [],
   "source": [
    "def next_prime(current_prime):\n",
    "    counter = 0\n",
    "    test_subject = current_prime + 2\n",
    "    while counter < current_prime/2:\n",
    "        if is_prime(test_subject) == 1:\n",
    "            return test_subject\n",
    "        else:\n",
    "            counter += 1\n",
    "            test_subject +=2"
   ]
  },
  {
   "cell_type": "code",
   "execution_count": 63,
   "metadata": {},
   "outputs": [],
   "source": [
    "def prime_index(index):\n",
    "    prime_list = [2,3,5,7,11,13]\n",
    "    i = 7\n",
    "    while i < index+1:\n",
    "        prime_list.append(next_prime(prime_list[-1]))\n",
    "        i += 1\n",
    "    return prime_list[-1]"
   ]
  },
  {
   "cell_type": "code",
   "execution_count": 71,
   "metadata": {},
   "outputs": [
    {
     "data": {
      "text/plain": [
       "104743"
      ]
     },
     "execution_count": 71,
     "metadata": {},
     "output_type": "execute_result"
    }
   ],
   "source": [
    "prime_index(10001)"
   ]
  },
  {
   "cell_type": "code",
   "execution_count": null,
   "metadata": {
    "collapsed": true
   },
   "outputs": [],
   "source": []
  }
 ],
 "metadata": {
  "kernelspec": {
   "display_name": "Python 3",
   "language": "python",
   "name": "python3"
  },
  "language_info": {
   "codemirror_mode": {
    "name": "ipython",
    "version": 3
   },
   "file_extension": ".py",
   "mimetype": "text/x-python",
   "name": "python",
   "nbconvert_exporter": "python",
   "pygments_lexer": "ipython3",
   "version": "3.6.1"
  }
 },
 "nbformat": 4,
 "nbformat_minor": 2
}
