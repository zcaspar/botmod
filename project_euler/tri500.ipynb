{
 "cells": [
  {
   "cell_type": "code",
   "execution_count": 37,
   "metadata": {},
   "outputs": [],
   "source": [
    "\n",
    "import itertools\n",
    "from itertools import combinations\n",
    "\n",
    "def factors(n):    \n",
    "    return set(reduce(list.__add__, \n",
    "                ([i, n//i] for i in range(1, int(n**0.5) + 1) if n % i == 0)))\n",
    "\n",
    "def no_factors(x):\n",
    "   # This function takes a number and prints the number of its factors\n",
    "    factor_list = []\n",
    "    for i in range(1, x + 1):\n",
    "        if x % i == 0:\n",
    "            factor_list.append(i)\n",
    "    return (len(factor_list))\n",
    "\n",
    "def find_next_triangle(n):\n",
    "    # Input a number, ouput a number\n",
    "    return sum(range(n+1))\n",
    "\n",
    "def is_it_tri(n):\n",
    "    x = (8*n + 1)\n",
    "    y = (x**0.5 - 1) / 2\n",
    "    if int(y) == y:\n",
    "        return 1\n",
    "    else:\n",
    "        return 0\n",
    "\n",
    "def next_prime(current_prime):\n",
    "    counter = 0\n",
    "    test_subject = current_prime + 2\n",
    "    while counter < current_prime/2:\n",
    "        if is_prime(test_subject) == 1:\n",
    "            return test_subject\n",
    "        else:\n",
    "            counter += 1\n",
    "            test_subject +=2\n",
    "\n",
    "def prime_list(no_sought):\n",
    "    # Enter the number of primes as an integer to return the first no_sought primes in a list [2,3,5]\n",
    "    prime_list = [2,3]\n",
    "    while len(prime_list) < no_sought+1:\n",
    "        prime_list.append(next_prime(prime_list[-1]))\n",
    "    return prime_list[0:-1]\n",
    "\n",
    "def is_prime(input):\n",
    "    # Enter a number, return 1 if prime or 0 if not\n",
    "    counter = 3\n",
    "    if input == 2:\n",
    "        return 1\n",
    "    if input%2 == 0:\n",
    "        return 0\n",
    "    while counter < (input/2):\n",
    "        if input%counter == 0:\n",
    "            return 0\n",
    "        counter += 2\n",
    "    return 1\n",
    "\n",
    "def compute_permutations(input_list):\n",
    "    # Enter indices or primes as a list to output all the permutations of those indices/primes as list of tuples [(2,3,5),(2,5,3)]\n",
    "    return list(itertools.permutations(input_list, len(input_list)))\n",
    "\n",
    "def perms_by_constant_index(prime_list,index):\n",
    "# The index here is constant, so we run through all the different perms of the prime list. Return a list of\n",
    "# any triangulars\n",
    "# Input = list of primes e.g. [2,3,5,7] and the max. index e.g. 9\n",
    "# Output = list of triangular numbers\n",
    "    triangular_list = []\n",
    "    perms = compute_permutations(prime_list)\n",
    "    for i in perms:\n",
    "        index_list_no = len(index) - 1\n",
    "        product = 1\n",
    "        while index_list_no > 0:\n",
    "            product *= i[index_list_no]**index[index_list_no]\n",
    "            index_list_no -= 1\n",
    "            if index_list_no == 0:\n",
    "                if is_it_tri(product) == 1 and product not in triangular_list and product !=0:\n",
    "                    triangular_list.append(product)\n",
    "                    product = 1\n",
    "    return triangular_list\n",
    "\n",
    "def indices_by_constant_primes(index_list,prime_list):\n",
    "    # Input = list of primes e.g. [2,3,5,7] and a list of indices e.g. [2,2,2,2]\n",
    "    # Output = list of triangular numbers\n",
    "    triangular_list = []\n",
    "    indices = compute_permutations(index_list)\n",
    "    for i in indices:\n",
    "        index_list_no = len(prime_list) - 1\n",
    "        product = 1\n",
    "        while index_list_no > 0:\n",
    "            product *= i[index_list_no]**index[index_list_no]\n",
    "            index_list_no -= 1\n",
    "            if index_list_no == 0:\n",
    "                if (is_it_tri(product) == 1 and product not in triangular_list and product !=0):\n",
    "                    triangular_list.append(product)\n",
    "                    product = 1\n",
    "    return triangular_list\n",
    "\n",
    "def cycling_both(prime_list,index):\n",
    "    triangular_list = []\n",
    "    indices = compute_permutations(index)\n",
    "    perms = perms_by_constant_index(index,prime_list)\n",
    "    for j in indices:\n",
    "        for i in perms:\n",
    "            triangular_list.append(i)\n",
    "    return min(triangular_list)\n",
    "\n",
    "\n",
    "# # What do we have by this stage?#\n",
    "\n",
    "# - The knowledge that if you take the indices of a group of primes, add one to each of them and multiply them together, then the result gives you the number of factors the product of the base primes\n",
    "# - A way to find n prime numbers\n",
    "# - A way to check if a number is a triangle number\n",
    "# - A way to check all permutations of a list of primes raised to certain powers (eventually powers+1 equalling more than 500)\n",
    "# - A way to check all permustations of a list of indices when the list of bases (primes) remain constant\n",
    "\n",
    "# # Next Step #\n",
    "\n",
    "# Find a way to take [2,2,2,2,2,2,2,2,2] to [2,2,2,2,2,2,2,2,3] etc.\n",
    "\n",
    "def get_indices(start_no,end_no):\n",
    "    list_of_lists = [start_no]\n",
    "    while start_no != end_no:\n",
    "        start_no += 1\n",
    "        list_of_lists.append(start_no)\n",
    "    return list_of_lists\n",
    "    \n",
    "\n",
    "def numbers_to_list(input_list):\n",
    "    # Take regular numbers e.g. 123 and turn into [123]\n",
    "    return [input_list]\n",
    "\n",
    "\n",
    "def comma_numbers(input_string):\n",
    "    # Takes e.g. [111] as input and outputs [1,1,1]\n",
    "    output_list = []\n",
    "    string = str(input_string)\n",
    "    for i in string:\n",
    "        output_list.append(int(i))\n",
    "    return output_list\n",
    "\n",
    "def list_of_numbers(start_no, end_no):\n",
    "    # input a start and end no to return a list of list of numbers between those numbers.\n",
    "    # Input 111,112 to ouput [[1,1,1],[1,1,2]]\n",
    "    number_list = get_indices(start_no,end_no)\n",
    "    all_lists = []\n",
    "    bigger_list = []\n",
    "    str_list = []\n",
    "    for i in number_list:\n",
    "        next_list = numbers_to_list(i)[0]\n",
    "        all_lists.append(next_list)\n",
    "    for i in all_lists:\n",
    "        bigger_list.append(numbers_to_list(i)[0])\n",
    "    for i in bigger_list:\n",
    "        sep_no = comma_numbers(i)\n",
    "        str_list.append(sep_no)\n",
    "    return str_list\n",
    "\n",
    "def list_to_500(input1):\n",
    "    #input a list and output the product of each member of that list multiplied together as an integer\n",
    "    list_length = len(input1)\n",
    "    product = 1\n",
    "    i = 0\n",
    "    while i < list_length:\n",
    "        product *= (input1[i]+1)\n",
    "        i+=1\n",
    "    return product\n",
    "\n",
    "\n",
    "mi_list = list_of_numbers(1111111111,1111111199)\n",
    "\n",
    "\n",
    "\n",
    "\n",
    "\n",
    "\n",
    "\n",
    "\n",
    "\n",
    "\n",
    "\n"
   ]
  },
  {
   "cell_type": "code",
   "execution_count": 36,
   "metadata": {
    "scrolled": true
   },
   "outputs": [
    {
     "ename": "KeyboardInterrupt",
     "evalue": "",
     "output_type": "error",
     "traceback": [
      "\u001b[0;31m---------------------------------------------------------------------------\u001b[0m",
      "\u001b[0;31mKeyboardInterrupt\u001b[0m                         Traceback (most recent call last)",
      "\u001b[0;32m<ipython-input-36-45ad615a214d>\u001b[0m in \u001b[0;36m<module>\u001b[0;34m()\u001b[0m\n\u001b[1;32m      1\u001b[0m \u001b[0mfinal_list\u001b[0m \u001b[0;34m=\u001b[0m \u001b[0;34m[\u001b[0m\u001b[0;34m]\u001b[0m\u001b[0;34m\u001b[0m\u001b[0m\n\u001b[1;32m      2\u001b[0m \u001b[0;32mfor\u001b[0m \u001b[0mi\u001b[0m \u001b[0;32min\u001b[0m \u001b[0mmi_list\u001b[0m\u001b[0;34m:\u001b[0m\u001b[0;34m\u001b[0m\u001b[0m\n\u001b[0;32m----> 3\u001b[0;31m     \u001b[0mthe_list\u001b[0m \u001b[0;34m=\u001b[0m \u001b[0mperms_by_constant_index\u001b[0m\u001b[0;34m(\u001b[0m\u001b[0mprime_list\u001b[0m\u001b[0;34m(\u001b[0m\u001b[0;36m10\u001b[0m\u001b[0;34m)\u001b[0m\u001b[0;34m,\u001b[0m\u001b[0mi\u001b[0m\u001b[0;34m)\u001b[0m\u001b[0;34m\u001b[0m\u001b[0m\n\u001b[0m\u001b[1;32m      4\u001b[0m     \u001b[0;32mif\u001b[0m \u001b[0mlen\u001b[0m\u001b[0;34m(\u001b[0m\u001b[0mthe_list\u001b[0m\u001b[0;34m)\u001b[0m \u001b[0;34m>\u001b[0m \u001b[0;36m0\u001b[0m\u001b[0;34m:\u001b[0m\u001b[0;34m\u001b[0m\u001b[0m\n\u001b[1;32m      5\u001b[0m         \u001b[0mfinal_list\u001b[0m\u001b[0;34m.\u001b[0m\u001b[0mappend\u001b[0m\u001b[0;34m(\u001b[0m\u001b[0mthe_list\u001b[0m\u001b[0;34m)\u001b[0m\u001b[0;34m\u001b[0m\u001b[0m\n",
      "\u001b[0;32m<ipython-input-2-47683a91f761>\u001b[0m in \u001b[0;36mperms_by_constant_index\u001b[0;34m(prime_list, index)\u001b[0m\n\u001b[1;32m    103\u001b[0m         \u001b[0mproduct\u001b[0m \u001b[0;34m=\u001b[0m \u001b[0;36m1\u001b[0m\u001b[0;34m\u001b[0m\u001b[0m\n\u001b[1;32m    104\u001b[0m         \u001b[0;32mwhile\u001b[0m \u001b[0mindex_list_no\u001b[0m \u001b[0;34m>\u001b[0m \u001b[0;36m0\u001b[0m\u001b[0;34m:\u001b[0m\u001b[0;34m\u001b[0m\u001b[0m\n\u001b[0;32m--> 105\u001b[0;31m             \u001b[0mproduct\u001b[0m \u001b[0;34m*=\u001b[0m \u001b[0mi\u001b[0m\u001b[0;34m[\u001b[0m\u001b[0mindex_list_no\u001b[0m\u001b[0;34m]\u001b[0m\u001b[0;34m**\u001b[0m\u001b[0mindex\u001b[0m\u001b[0;34m[\u001b[0m\u001b[0mindex_list_no\u001b[0m\u001b[0;34m]\u001b[0m\u001b[0;34m\u001b[0m\u001b[0m\n\u001b[0m\u001b[1;32m    106\u001b[0m             \u001b[0mindex_list_no\u001b[0m \u001b[0;34m-=\u001b[0m \u001b[0;36m1\u001b[0m\u001b[0;34m\u001b[0m\u001b[0m\n\u001b[1;32m    107\u001b[0m             \u001b[0;32mif\u001b[0m \u001b[0mindex_list_no\u001b[0m \u001b[0;34m==\u001b[0m \u001b[0;36m0\u001b[0m\u001b[0;34m:\u001b[0m\u001b[0;34m\u001b[0m\u001b[0m\n",
      "\u001b[0;31mKeyboardInterrupt\u001b[0m: "
     ]
    }
   ],
   "source": [
    "final_list = []\n",
    "for i in mi_list:\n",
    "    the_list = perms_by_constant_index(prime_list(10),i)\n",
    "    if len(the_list) > 0:\n",
    "        final_list.append(the_list)\n",
    "    print (i,the_list)\n",
    "print (min(final_list))"
   ]
  },
  {
   "cell_type": "code",
   "execution_count": 28,
   "metadata": {},
   "outputs": [
    {
     "data": {
      "text/plain": [
       "2017"
      ]
     },
     "execution_count": 28,
     "metadata": {},
     "output_type": "execute_result"
    }
   ],
   "source": [
    "next_prime(2011)"
   ]
  },
  {
   "cell_type": "code",
   "execution_count": 31,
   "metadata": {},
   "outputs": [
    {
     "data": {
      "text/plain": [
       "3"
      ]
     },
     "execution_count": 31,
     "metadata": {},
     "output_type": "execute_result"
    }
   ],
   "source": [
    "compute_permutations([2,3,5,7])[1][1]"
   ]
  },
  {
   "cell_type": "code",
   "execution_count": 33,
   "metadata": {},
   "outputs": [
    {
     "name": "stdout",
     "output_type": "stream",
     "text": [
      "result 76576500.0 returned in 4.074150800704956 seconds.\n"
     ]
    }
   ],
   "source": [
    "import time\n",
    " \n",
    "def num_divisors(n):\n",
    "    if n % 2 == 0: n = n/2\n",
    "    divisors = 1\n",
    "    count = 0\n",
    "    while n % 2 == 0:\n",
    "        count += 1\n",
    "        n = n/2\n",
    "    divisors = divisors * (count + 1)\n",
    "    p = 3\n",
    "    while n != 1:\n",
    "        count = 0\n",
    "        while n % p == 0:\n",
    "            count += 1\n",
    "            n = n/p\n",
    "        divisors = divisors * (count + 1)\n",
    "        p += 2\n",
    "    return divisors\n",
    " \n",
    "def find_triangular_index(factor_limit):\n",
    "    n = 1\n",
    "    lnum, rnum = num_divisors(n), num_divisors(n+1)\n",
    "    while lnum * rnum < 500:\n",
    "        n += 1\n",
    "        lnum, rnum = rnum, num_divisors(n+1)\n",
    "    return n\n",
    " \n",
    "start = time.time()\n",
    "index = find_triangular_index(500)\n",
    "triangle = (index * (index + 1)) / 2\n",
    "elapsed = (time.time() - start)\n",
    " \n",
    "print (\"result %s returned in %s seconds.\" % (triangle,elapsed))"
   ]
  },
  {
   "cell_type": "code",
   "execution_count": 39,
   "metadata": {
    "scrolled": true
   },
   "outputs": [
    {
     "data": {
      "text/plain": [
       "576"
      ]
     },
     "execution_count": 39,
     "metadata": {},
     "output_type": "execute_result"
    }
   ],
   "source": [
    "no_factors(76576500)"
   ]
  },
  {
   "cell_type": "code",
   "execution_count": null,
   "metadata": {
    "collapsed": true
   },
   "outputs": [],
   "source": []
  }
 ],
 "metadata": {
  "kernelspec": {
   "display_name": "Python 3",
   "language": "python",
   "name": "python3"
  },
  "language_info": {
   "codemirror_mode": {
    "name": "ipython",
    "version": 3
   },
   "file_extension": ".py",
   "mimetype": "text/x-python",
   "name": "python",
   "nbconvert_exporter": "python",
   "pygments_lexer": "ipython3",
   "version": "3.6.2"
  }
 },
 "nbformat": 4,
 "nbformat_minor": 2
}
